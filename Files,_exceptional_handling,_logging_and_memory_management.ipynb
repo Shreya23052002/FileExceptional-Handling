{
  "nbformat": 4,
  "nbformat_minor": 0,
  "metadata": {
    "colab": {
      "provenance": []
    },
    "kernelspec": {
      "name": "python3",
      "display_name": "Python 3"
    },
    "language_info": {
      "name": "python"
    }
  },
  "cells": [
    {
      "cell_type": "markdown",
      "source": [
        "Files, exceptional handling, logging and\n",
        "memory management Questions"
      ],
      "metadata": {
        "id": "auqyATpqfCcF"
      }
    },
    {
      "cell_type": "code",
      "source": [
        "#1. What is the difference between interpreted and compiled languages?\n",
        "\n",
        "Compiled Language-\n",
        "A compiled language is a programming language that is generally compiled and not interpreted. It is one where the program, once compiled, is\n",
        "expressed in the instructions of the target machine; this machine code is undecipherable by humans. Types of compiled language – C, C++, C#, CLEO,\n",
        "COBOL, etc.\n",
        "\n",
        "Interpreted Language-\n",
        "An interpreted language is a programming language that is generally interpreted, without compiling a program into machine instructions. It is one\n",
        "where the instructions are not directly executed by the target machine, but instead, read and executed by some other program. Interpreted language\n",
        "ranges – JavaScript, Perl, Python, BASIC, etc.\n"
      ],
      "metadata": {
        "id": "Su4DU_sjfF9f"
      },
      "execution_count": null,
      "outputs": []
    },
    {
      "cell_type": "code",
      "source": [
        "#2. What is exception handling in Python?\n",
        "\n",
        "Python Exception Handling handles errors that occur during the execution of a program. Exception handling allows to respond to the error, instead of\n",
        "crashing the running program. It enables you to catch and manage errors, making your code more robust and user-friendly.\n",
        "\n",
        "Example-\n",
        "n = 10\n",
        "try:\n",
        "    res = n / 0  # This will raise a ZeroDivisionError\n",
        "\n",
        "except ZeroDivisionError:\n",
        "    print(\"Can't be divided by zero!\")\n",
        "#output - Can't be divided by zero!"
      ],
      "metadata": {
        "id": "dMW5qWE-gQ6I"
      },
      "execution_count": null,
      "outputs": []
    },
    {
      "cell_type": "code",
      "source": [
        "#3. What is the purpose of the finally block in exception handling?\n",
        "\n",
        "The finally block in exception handling is used to define a section of code that always executes, regardless of whether an exception was raised or\n",
        "not. Its main purpose is to ensure that cleanup actions (like closing a file, releasing resources, or ending a database connection) are performed no\n",
        "matter what happens during the try or except blocks.\n",
        "\n",
        "Structure of Code:\n",
        "try:\n",
        "    # Code that might raise an exception\n",
        "except SomeException:\n",
        "    # Code to handle the exception\n",
        "finally:\n",
        "    # Cleanup code that always runs"
      ],
      "metadata": {
        "id": "XWQtk_BNhQUV"
      },
      "execution_count": null,
      "outputs": []
    },
    {
      "cell_type": "code",
      "source": [
        "#4. What is logging in Python?\n",
        "\n",
        "Logging is a means of tracking events that happen when some software runs. Logging is important for software developing, debugging, and running. If\n",
        "you don’t have any logging record and your program crashes, there are very few chances that you detect the cause of the problem. And if you detect\n",
        "the cause, it will consume a lot of time. With logging, you can leave a trail of breadcrumbs so that if something goes wrong, we can determine the\n",
        "cause of the problem.\n",
        "\n",
        "There are a number of situations like if you are expecting an integer, you have been given a float and you can a cloud API, the service is down for\n",
        "maintenance, and much more. Such problems are out of control and are hard to determine."
      ],
      "metadata": {
        "id": "AM92bZaNh9UF"
      },
      "execution_count": null,
      "outputs": []
    },
    {
      "cell_type": "code",
      "source": [
        "#5. What is the significance of the __del__ method in Python?\n",
        "\n",
        "The __del__ method is a special method in Python that is called when an object is about to be destroyed. It allows you to define specific cleanup\n",
        "actions that should be taken when an object is garbage collected. This method can be particularly useful for releasing external resources such as\n",
        "file handles, network connections, or database connections that the object may hold.\n",
        "Purpose: The __del__ method is used to define the actions that should be performed before an object is destroyed. This can include releasing external\n",
        "resources such as files or database connections associated with the object.\n",
        "Usage: When Python is garbage collector identifies that an object is no longer referenced by any part of the program, it schedules the __del__ method\n",
        "of that object to be called before reclaiming its memory.\n",
        "Syntax: The __del__ method is defined using the following syntax.\n",
        "class ClassName:\n",
        "        def __del__(self):\n",
        "         pass"
      ],
      "metadata": {
        "id": "jUyary7GiX6n"
      },
      "execution_count": null,
      "outputs": []
    },
    {
      "cell_type": "code",
      "source": [
        "#6. What is the difference between import and from ... import in Python?\n",
        "\n",
        "import Statement -\n",
        "Imports the whole module.\n",
        "You need to prefix everything from the module with its name.\n",
        "syntax - import math\n",
        "example - print(math.sqrt(16))\n",
        "\n",
        "from ... import Statement -\n",
        "Imports specific items (functions, classes, variables) from a module.\n",
        "You can use the imported item directly, without the module prefix.\n",
        "syntax - from math import sqrt\n",
        "example - print(sqrt(16))"
      ],
      "metadata": {
        "id": "M3ONz7x9jZui"
      },
      "execution_count": null,
      "outputs": []
    },
    {
      "cell_type": "code",
      "source": [
        "#7. How can you handle multiple exceptions in Python?\n",
        "\n",
        "In Python, you can handle multiple exceptions in several ways depending on how you want to manage them. Here are the common approaches:\n",
        "1. Handle Different Exceptions Separately\n",
        "2. Handle Multiple Exceptions in a Single Block\n",
        "3. Use a Generic Exception Handler\n",
        "4. Use else and finally with try-except"
      ],
      "metadata": {
        "id": "RSueMFYTKebm"
      },
      "execution_count": null,
      "outputs": []
    },
    {
      "cell_type": "code",
      "source": [
        "#8. What is the purpose of the with statement when handling files in Python?\n",
        "\n",
        "The with statement in Python is used for resource management and exception handling. It simplifies working with resources like files, network\n",
        "connections and database connections by ensuring they are properly acquired and released. When we open a file, we need to close it ourself using\n",
        "close(). But if something goes wrong before closing, the file might stay open, causing issues. Using with open() automatically closes the file when\n",
        "we’re done, even if an error happens.\n",
        "Example -\n",
        "file = open(\"example.txt\", \"r\")\n",
        "try:\n",
        "    content = file.read()\n",
        "    print(content)\n",
        "finally:\n",
        "    file.close()  # Ensures the file is closed\n"
      ],
      "metadata": {
        "id": "SBY2dLSgL7lg"
      },
      "execution_count": null,
      "outputs": []
    },
    {
      "cell_type": "code",
      "source": [
        "#9. What is the difference between multithreading and multiprocessing?\n",
        "\n",
        "Multithreading - Multithreading in Python is a way to run multiple threads (smaller units of a process) concurrently. This is useful when you want\n",
        "to perform tasks simultaneously, like downloading multiple files or handling multiple user requests in a web application.\n",
        "threading module: Built-in module used to work with threads in Python.\n",
        "\n",
        "Multiprocessing - Multiprocessing in Python is a built-in module that allows you to run multiple processes in parallel, making better use of\n",
        "multiple CPU cores and improving performance for CPU-bound tasks.\n",
        "It’s especially useful when tasks are CPU-intensive (like data processing, mathematical computations, etc.) and the Global Interpreter Lock (GIL)\n",
        "in Python would otherwise limit concurrency in threads."
      ],
      "metadata": {
        "id": "PjLeuFD1M2tJ"
      },
      "execution_count": null,
      "outputs": []
    },
    {
      "cell_type": "code",
      "source": [
        "#10. What are the advantages of using logging in a program?\n",
        "\n",
        "Using logging in a program provides several advantages that go beyond just printing messages. Here are the main benefits:\n",
        "\n",
        "1.Easier Debugging - Logging helps track the flow of your program and identify where things go wrong—especially useful when bugs are hard to reproduce.\n",
        "\n",
        "2.Persistent Record - Unlike print(), logs can be written to files. This gives you a historical record of what happened, when it happened, and in what\n",
        "  order.\n",
        "\n",
        "3.Different Log Levels - DEBUG: Detailed info for developers, INFO: General info about the program, WARNING: Something might go wrong, ERROR: An error\n",
        "                       occurred, CRITICAL: Very serious error.\n",
        "\n",
        "4.Better Control Than print() - Log to different destinations (file, console, server),Turn logging on/off or change level without changing the code.\n",
        "\n",
        "5.Helpful in Production\n",
        "\n",
        "6.Multi-threaded/Multi-user Friendly - Logging is thread-safe and works well even when multiple users or threads are active, unlike simple print()."
      ],
      "metadata": {
        "id": "9E5oNTvTOhFu"
      },
      "execution_count": null,
      "outputs": []
    },
    {
      "cell_type": "code",
      "source": [
        "#11. What is memory management in Python?\n",
        "\n",
        "Memory management in Python is the process of efficiently allocating, using, and releasing memory during the execution of a Python program. Python\n",
        "handles memory management automatically, but it also gives developers some control.\n",
        "Understanding Memory allocation is important to any software developer as writing efficient code means writing a memory-efficient code. Memory\n",
        "allocation can be defined as allocating a block of space in the computer memory to a program.\n",
        "Memory management in Python involves a private heap containing all Python objects and data structures. The management of this private heap is\n",
        "ensured internally by the Python memory manager."
      ],
      "metadata": {
        "id": "Yg2eZkxaLeT_"
      },
      "execution_count": null,
      "outputs": []
    },
    {
      "cell_type": "code",
      "source": [
        "#12. What are the basic steps involved in exception handling in Python?\n",
        "\n",
        "Exception handling is a way to gracefully handle errors that may occur during the execution of your program, without crashing it. The basic steps\n",
        "involved in exception handling are-\n",
        "1. Try Block\n",
        "Write the code that might raise an exception inside a try block.\n",
        "2. Except Block\n",
        "Handle specific exceptions using one or more except blocks.\n",
        "3. Else Block (Optional)\n",
        "Runs only if no exception was raised in the try block.\n",
        "4. Finally Block (Optional)\n",
        "Runs no matter what, whether an exception occurred or not. Usually used for cleanup (like closing files or releasing resources).\n",
        "\n",
        "Example-\n",
        "try:\n",
        "    num = int(input(\"Enter a number: \"))\n",
        "    result = 10 / num\n",
        "except ValueError:\n",
        "    print(\"Invalid input. Not a number.\")\n",
        "except ZeroDivisionError:\n",
        "    print(\"Division by zero is not allowed.\")\n",
        "else:\n",
        "    print(\"Result is:\", result)\n",
        "finally:\n",
        "    print(\"Program execution complete.\")"
      ],
      "metadata": {
        "id": "MJWPaCTCLkQP"
      },
      "execution_count": null,
      "outputs": []
    },
    {
      "cell_type": "code",
      "source": [
        "#13. Why is memory management important in Python?\n",
        "\n",
        "Memory management is super important in Python (or any programming language) because it directly affects the performance and stability of your\n",
        "programs. Here’s why it matters, especially in Python:\n",
        "1. Efficient Resource Use - Python programs can handle large data structures (like lists, dictionaries, pandas DataFrames), but if memory isn't managed well, you can:\n",
        "  -Run out of memory\n",
        "  -Slow down your system\n",
        "  -Crash your app\n",
        "2. Garbage Collection - Python uses automatic garbage collection to clean up unused objects. This helps:\n",
        "  -Prevent memory leaks (when memory gets used up and never released)\n",
        "  -Keep memory free for objects that are actually needed\n",
        "3. Avoiding Memory Leaks - Even though Python handles memory, poor coding can still cause leaks. For example:\n",
        "  -Keeping references to objects you no longer use\n",
        "  -Creating global variables that persist longer than needed"
      ],
      "metadata": {
        "id": "kgH9Pb8Siool"
      },
      "execution_count": null,
      "outputs": []
    },
    {
      "cell_type": "code",
      "source": [
        "#14. What is the role of try and except in exception handling?\n",
        "\n",
        "In Python, try and except are used for exception handling, which means they help your program deal with errors gracefully instead of crashing.\n",
        "-The try block lets you test a block of code for errors.\n",
        "-The except block lets you handle the error (if any occurs).\n",
        "-Prevents program crashes.\n",
        "-Helps provide meaningful error messages.\n",
        "-Makes debugging and user interaction smoother.\n",
        "\n",
        "Syntax-\n",
        "try:\n",
        "except SomeError:"
      ],
      "metadata": {
        "id": "KCW3o3oAkZDb"
      },
      "execution_count": null,
      "outputs": []
    },
    {
      "cell_type": "code",
      "source": [
        "#15. How does Python's garbage collection system work?\n",
        "\n",
        "Python’s garbage collection algorithm is very useful for opening up space in the memory. Garbage collection is implemented in Python in two ways:\n",
        "reference counting and generational. When the reference count of an object reaches 0, the reference counting garbage collection algorithm cleans up\n",
        "the object immediately.\n",
        "If you have a cycle, the reference count doesn’t reach zero. You have to wait for the generational garbage collection algorithm to run and clean the\n",
        "object. While a programmer doesn’t have to think about garbage collection in Python, it can be useful to understand what is happening under the hood.\n"
      ],
      "metadata": {
        "id": "gh7RVwhrm3d_"
      },
      "execution_count": null,
      "outputs": []
    },
    {
      "cell_type": "code",
      "source": [
        "#16. What is the purpose of the else block in exception handling?\n",
        "\n",
        "The else block in exception handling is optional and is used to define code that should run only if no exceptions were raised in the try block.\n",
        "The else block is useful when you have code that should only run if the try block was successful, and you don't want that code inside the try block\n",
        "(to avoid catching exceptions that it might raise).\n",
        "Example -\n",
        "try:\n",
        "    result = 10 / 2\n",
        "except ZeroDivisionError:\n",
        "    print(\"You can't divide by zero!\")\n",
        "else:\n",
        "    print(\"Division successful, result is:\", result)"
      ],
      "metadata": {
        "id": "ZGveWId8H76V"
      },
      "execution_count": null,
      "outputs": []
    },
    {
      "cell_type": "code",
      "source": [
        "#17. What are the common logging levels in Python?\n",
        "\n",
        "In Python, the logging module provides several standard logging levels that indicate the severity of messages. Here are the common logging levels,\n",
        "from the most severe to the least:\n",
        "\n",
        "1. CRITICAL (50)\n",
        "Indicates a very serious error that may prevent the program from continuing.\n",
        "Example: System crash, hardware failure.\n",
        "\n",
        "2.ERROR (40)\n",
        "Indicates a more serious problem that has caused a failure in a part of the program.\n",
        "Example: Failed to connect to a database.\n",
        "\n",
        "3.WARNING (30)\n",
        "Indicates something unexpected or a potential problem, but the program can still continue.\n",
        "Example: Deprecated API usage, low disk space.\n",
        "\n",
        "4.INFO (20)\n",
        "Used to report general events or statuses in the program.\n",
        "Example: \"User successfully logged in\", \"Job started\".\n",
        "\n",
        "5.DEBUG (10)\n",
        "Used for detailed debugging information, helpful for diagnosing problems.\n",
        "Example: Variable values, function entry/exit.\n",
        "\n",
        "6.NOTSET (0)\n",
        "This is the default level. If no level is set, the logger inherits the level from its parent."
      ],
      "metadata": {
        "id": "WP_U_bCvI_ew"
      },
      "execution_count": null,
      "outputs": []
    },
    {
      "cell_type": "code",
      "source": [
        "#18. What is the difference between os.fork() and multiprocessing in Python?\n",
        "\n",
        "os.fork():\n",
        "It's a low-level system call available on Unix/Linux systems.\n",
        "It creates a child process by duplicating the current process.\n",
        "Both parent and child continue execution from the point of the fork.\n",
        "os.fork() is only used on Unix/Linux only.\n",
        "You’d need to implement IPC (inter-process communication) like sockets, pipes, or shared memory yourself.\n",
        "\n",
        "multiprocessing module:\n",
        "It’s a high-level Python module that provides a clean interface for creating processes.\n",
        "It abstracts over os.fork() and works on all platforms, including Windows.\n",
        "multiprocessing.Process() is used on Windows, macOS, Linux.\n",
        "Has built-in tools for process communication and synchronization.\n"
      ],
      "metadata": {
        "id": "Mim4bjeyJkLp"
      },
      "execution_count": null,
      "outputs": []
    },
    {
      "cell_type": "code",
      "source": [
        "#19. What is the importance of closing a file in Python?\n",
        "\n",
        "1. Freeing Up System Resources\n",
        "Every open file consumes system resources like memory and file descriptors. If you don’t close a file, these resources may not be released properly,\n",
        "especially when you're working with many files at once.\n",
        "\n",
        "2. Ensuring Data Is Written\n",
        "When writing to a file, Python often buffers the data—meaning it stores it temporarily before actually writing it to disk. If you don’t close the\n",
        "file, some of this data might not be saved properly. Closing the file ensures all buffered data is flushed (written) to the file.\n",
        "\n",
        "3. Avoiding File Corruption\n",
        "Improperly closed files (especially during write operations) can result in incomplete or corrupted files, which could lead to data loss.\n",
        "\n",
        "4. File Locking Issues\n",
        "Some operating systems or programs might lock files while they’re open. If you don’t close them, other programs or processes might not be able to\n",
        "access or modify the file.\n",
        "\n",
        "Use a with block to handle files, which automatically closes the file for you>"
      ],
      "metadata": {
        "id": "NUesLTseX2Hm"
      },
      "execution_count": null,
      "outputs": []
    },
    {
      "cell_type": "code",
      "source": [
        "#20. What is the difference between file.read() and file.readline() in Python?\n",
        "\n",
        "file.read()\n",
        "Reads the entire file (or a specified number of bytes if given an argument).\n",
        "Returns it as a single string.\n",
        "Example-\n",
        "with open(\"example.txt\", \"r\") as file:\n",
        "    content = file.read()\n",
        "    print(content)\n",
        "\n",
        "file.readline()\n",
        "Reads just one line from the file at a time.\n",
        "Each call to readline() reads the next line.\n",
        "Useful for reading files line-by-line (especially large files).\n",
        "Example-\n",
        "with open(\"example.txt\", \"r\") as file:\n",
        "    line1 = file.readline()\n",
        "    line2 = file.readline()\n",
        "    print(line1)\n",
        "    print(line2)"
      ],
      "metadata": {
        "id": "xHKmbMLfYLro"
      },
      "execution_count": null,
      "outputs": []
    },
    {
      "cell_type": "code",
      "source": [
        "#21. What is the logging module in Python used for?\n",
        "\n",
        "The logging module in Python is used to record messages from your programs. It's a powerful tool for tracking events, debugging, and understanding\n",
        "the flow of a program, especially when things go wrong.\n",
        "\n",
        "Key Uses:\n",
        "Debugging: Helps identify what part of your code is causing issues.\n",
        "Tracking flow: Logs messages showing the sequence of operations.\n",
        "Error reporting: Captures and stores exceptions and error messages.\n",
        "Auditing: Keeps a record of program activity for security or compliance reasons.\n",
        "\n",
        "Why use logging instead of print()?\n",
        "You can set different levels of importance for messages (e.g., debug, info, warning, error, critical).\n",
        "It supports writing logs to files, not just the console.\n",
        "It can log messages with timestamps, module names, line numbers, etc.\n",
        "It supports log rotation, formatting, and filtering.\n",
        "Works well in larger applications and production environments."
      ],
      "metadata": {
        "id": "LibNS1QvYkTQ"
      },
      "execution_count": null,
      "outputs": []
    },
    {
      "cell_type": "code",
      "source": [
        "#22. What is the os module in Python used for in file handling?\n",
        "\n",
        "Python has a built-in os module with methods for interacting with the operating system, like creating files and directories,\n",
        "management of files and directories, input, output, environment variables, process management, etc.\n"
      ],
      "metadata": {
        "id": "U5qbTphjZkl5"
      },
      "execution_count": null,
      "outputs": []
    },
    {
      "cell_type": "code",
      "source": [
        "#23. What are the challenges associated with memory management in Python?\n",
        "\n",
        "Python memory management is the process of allocating and dealing with memory so that your programs can run efficiently. One advantage of Python,\n",
        "compared to other programming languages, is that it can perform memory management tasks automatically.\n",
        "You can classify memory management in Python in one of two ways: dynamic allocation or static allocation. Dynamic allocation occurs as the\n",
        "program is running. This means that as the program operates, it can dynamically determine where to allocate memory while reusing and releasing it.\n",
        "Static memory allocation happens before the running of a program, predetermining the amount and distribution of the memory, and without the ability\n",
        "to reuse memory."
      ],
      "metadata": {
        "id": "Wv-5Crm7axD_"
      },
      "execution_count": null,
      "outputs": []
    },
    {
      "cell_type": "code",
      "source": [
        "#24. How do you raise an exception manually in Python?\n",
        "\n",
        "To manually raise an exception in Python, you can use the raise keyword. This keyword allows you to throw an exception with a custom error message.\n",
        "\n",
        "We define a function called divide() that takes two numbers as arguments and divides them. If the denominator is zero, we use the\n",
        "raise keyword to throw a ZeroDivisionError with a custom error message. This will cause the divide() function to stop executing and return the\n",
        "error message to the caller.\n",
        "Alternatively, you can use the raise keyword to throw any other built-in or custom exception that you have defined. For example, you can throw a\n",
        "ValueError if the arguments passed to the function are not valid, or you can throw a custom MyCustomError if you have defined one.\n",
        "Overall, the raise keyword allows you to manually raise an exception in Python. This is useful for handling errors and exceptional cases in your\n",
        "code. You can use the raise keyword to throw any built-in or custom exception, and provide a custom error message if desired."
      ],
      "metadata": {
        "id": "-nPS0jcTbkc7"
      },
      "execution_count": null,
      "outputs": []
    },
    {
      "cell_type": "code",
      "source": [
        "#25. Why is it important to use multithreading in certain applications?\n",
        "\n",
        "Multithreading is crucial for certain applications as it enables concurrent execution of tasks, leading to improved performance, responsiveness, and resource utilization, especially in scenarios involving I/O-bound operations or user interfaces.\n",
        "Here's a more detailed explanation of why multithreading is important:\n",
        "1. Enhanced Performance and Responsiveness:\n",
        "Concurrency: Multithreading allows different parts of an application to run concurrently, meaning they can execute seemingly simultaneously, even\n",
        "on a single-core processor.\n",
        "Improved CPU Utilization: By allowing the CPU to switch between threads while one is waiting for an I/O operation (like reading from a file or\n",
        "network), multithreading helps keep the CPU busy and improves overall performance.\n",
        "Responsive User Interfaces: In applications with user interfaces, multithreading prevents the UI from freezing or becoming unresponsive when a\n",
        "long-running task is performed in the background.\n",
        "Handling Multiple User Requests: In server-side applications, multithreading enables the server to handle multiple client requests concurrently,\n",
        "improving scalability and responsiveness.\n",
        "\n",
        "2. Efficient Resource Utilization:\n",
        "Reduced Context Switching Overhead:\n",
        "Threads share the same memory space and resources of the process they belong to, which makes communication and data sharing between them efficient.\n",
        "Lightweight Processes: Compared to creating separate processes, threads are lighter on system resources, as they require less memory and overhead.\n",
        "\n",
        "3. Benefits in Specific Application Scenarios:\n",
        "Web Servers: Multithreading is essential for web servers to handle multiple client requests concurrently, ensuring a smooth and responsive user experience.\n",
        "Media Applications: Applications that involve tasks like audio/video processing, encoding, or decoding benefit from multithreading to improve\n",
        "performance and responsiveness.\n",
        "Scientific Simulations: Multithreading is often used in scientific simulations and other computationally intensive tasks to break down complex\n",
        "problems into smaller, independent tasks that can be executed concurrently.\n",
        "Real-time applications: Multithreading ensures tasks or requests are executed with little delay and maintains a smooth performance during real-time\n",
        "data processing."
      ],
      "metadata": {
        "id": "F5dhrYMPkp-S"
      },
      "execution_count": null,
      "outputs": []
    },
    {
      "cell_type": "markdown",
      "source": [
        "**Practical** **Questions**"
      ],
      "metadata": {
        "id": "vqk18trfl3Ty"
      }
    },
    {
      "cell_type": "code",
      "source": [
        "#1. How can you open a file for writing in Python and write a string to it?\n",
        "\n",
        "# Open the file in write mode ('w')\n",
        "with open(\"example.txt\", \"w\") as file:\n",
        "    # Write a string to the file\n",
        "    file.write(\"Hello, this is a line of text.\")"
      ],
      "metadata": {
        "id": "nTbQD0Byl9Ln"
      },
      "execution_count": null,
      "outputs": []
    },
    {
      "cell_type": "code",
      "source": [
        "#2. Write a Python program to read the contents of a file and print each line?\n",
        "\n",
        "# Program to read a file and print each line\n",
        "\n",
        "# Replace 'your_file.txt' with the path to your file\n",
        "file_path = 'your_file.txt'\n",
        "\n",
        "try:\n",
        "    with open(file_path, 'r') as file:\n",
        "        for line in file:\n",
        "            print(line.strip())  # .strip() removes any extra newline characters\n",
        "except FileNotFoundError:\n",
        "    print(f\"The file '{file_path}' was not found.\")\n",
        "except Exception as e:\n",
        "    print(f\"An error occurred: {e}\")"
      ],
      "metadata": {
        "colab": {
          "base_uri": "https://localhost:8080/"
        },
        "id": "S1U0m6jLmiEI",
        "outputId": "f626047e-9840-49a1-e76a-17dda239b478"
      },
      "execution_count": null,
      "outputs": [
        {
          "output_type": "stream",
          "name": "stdout",
          "text": [
            "The file 'your_file.txt' was not found.\n"
          ]
        }
      ]
    },
    {
      "cell_type": "code",
      "source": [
        "#3. How would you handle a case where the file doesn't exist while trying to open it for reading?\n",
        "\n",
        "try:\n",
        "    with open(\"filename.txt\", \"r\") as file:\n",
        "        content = file.read()\n",
        "        print(content)\n",
        "except FileNotFoundError:\n",
        "    print(\"The file does not exist. Please check the filename or path.\")"
      ],
      "metadata": {
        "colab": {
          "base_uri": "https://localhost:8080/"
        },
        "id": "fYuD39Bdmyd5",
        "outputId": "ef22b782-b930-4f89-b890-5d380fd74dff"
      },
      "execution_count": null,
      "outputs": [
        {
          "output_type": "stream",
          "name": "stdout",
          "text": [
            "The file does not exist. Please check the filename or path.\n"
          ]
        }
      ]
    },
    {
      "cell_type": "code",
      "source": [
        "#4. Write a Python script that reads from one file and writes its content to another file.\n",
        "\n",
        "# Define the source and destination file paths\n",
        "source_file = 'source.txt'\n",
        "destination_file = 'destination.txt'\n",
        "\n",
        "try:\n",
        "    # Open the source file in read mode and destination file in write mode\n",
        "    with open(source_file, 'r') as src, open(destination_file, 'w') as dest:\n",
        "        # Read from source and write to destination\n",
        "        for line in src:\n",
        "            dest.write(line)\n",
        "    print(f\"Contents copied from '{source_file}' to '{destination_file}' successfully.\")\n",
        "except FileNotFoundError:\n",
        "    print(f\"Error: The file '{source_file}' does not exist.\")\n",
        "except Exception as e:\n",
        "    print(f\"An error occurred: {e}\")"
      ],
      "metadata": {
        "colab": {
          "base_uri": "https://localhost:8080/"
        },
        "id": "y1bo3AoTnKDe",
        "outputId": "730abef5-71a5-42f8-ca10-b39fed2645f6"
      },
      "execution_count": null,
      "outputs": [
        {
          "output_type": "stream",
          "name": "stdout",
          "text": [
            "Error: The file 'source.txt' does not exist.\n"
          ]
        }
      ]
    },
    {
      "cell_type": "code",
      "source": [
        "#5. How would you catch and handle division by zero error in Python?\n",
        "\n",
        "try:\n",
        "    result = 10 / 0\n",
        "except ZeroDivisionError:\n",
        "    print(\"Error: You can't divide by zero!\")\n",
        "else:\n",
        "    print(\"Result is:\", result)\n",
        "finally:\n",
        "    print(\"This block always runs.\")"
      ],
      "metadata": {
        "colab": {
          "base_uri": "https://localhost:8080/"
        },
        "id": "WOMNVEoBnuZN",
        "outputId": "94cb355b-175c-4c52-c3cc-c09e2faaf1f8"
      },
      "execution_count": null,
      "outputs": [
        {
          "output_type": "stream",
          "name": "stdout",
          "text": [
            "Error: You can't divide by zero!\n",
            "This block always runs.\n"
          ]
        }
      ]
    },
    {
      "cell_type": "code",
      "source": [
        "#6. Write a Python program that logs an error message to a log file when a division by zero exception occurs.\n",
        "\n",
        "import logging\n",
        "\n",
        "# Configure logging\n",
        "logging.basicConfig(\n",
        "    filename='error_log.txt',\n",
        "    level=logging.ERROR,\n",
        "    format='%(asctime)s - %(levelname)s - %(message)s'\n",
        ")\n",
        "\n",
        "def divide(a, b):\n",
        "    try:\n",
        "        result = a / b\n",
        "        print(f\"Result: {result}\")\n",
        "    except ZeroDivisionError as e:\n",
        "        logging.error(\"Division by zero error occurred\", exc_info=True)\n",
        "        print(\"An error occurred. Check the log file for details.\")\n",
        "\n",
        "# Example usage\n",
        "x = 10\n",
        "y = 0\n",
        "divide(x, y)"
      ],
      "metadata": {
        "id": "vgeN0-Dxos4c"
      },
      "execution_count": null,
      "outputs": []
    },
    {
      "cell_type": "code",
      "source": [
        "#7. How do you log information at different levels (INFO, ERROR, WARNING) in Python using the logging module?\n",
        "\n",
        "import logging\n",
        "\n",
        "# Configure the logging\n",
        "logging.basicConfig(\n",
        "    level=logging.DEBUG,  # Set the lowest level to capture all messages\n",
        "    format='%(asctime)s - %(levelname)s - %(message)s',\n",
        "    filename='app.log',   # Optional: logs to a file instead of console\n",
        "    filemode='w'          # Overwrites the file each run; use 'a' to append\n",
        ")\n",
        "\n",
        "# Log messages of different severity\n",
        "logging.debug(\"This is a DEBUG message\")\n",
        "logging.info(\"This is an INFO message\")\n",
        "logging.warning(\"This is a WARNING message\")\n",
        "logging.error(\"This is an ERROR message\")\n",
        "logging.critical(\"This is a CRITICAL message\")\n",
        "\n",
        "logging.basicConfig(level=logging.INFO, format='%(levelname)s: %(message)s')"
      ],
      "metadata": {
        "id": "rOWBR8xhp3gn"
      },
      "execution_count": null,
      "outputs": []
    },
    {
      "cell_type": "code",
      "source": [
        "#8. Write a program to handle a file opening error using exception handling.\n",
        "\n",
        "def open_file(filename):\n",
        "    try:\n",
        "        with open(filename, 'r') as file:\n",
        "            content = file.read()\n",
        "            print(\"File content:\")\n",
        "            print(content)\n",
        "    except FileNotFoundError:\n",
        "        print(f\"Error: The file '{filename}' was not found.\")\n",
        "    except IOError:\n",
        "        print(f\"Error: An I/O error occurred while opening the file '{filename}'.\")\n",
        "\n",
        "# Example usage\n",
        "filename = input(\"Enter the filename to open: \")\n",
        "open_file(filename)"
      ],
      "metadata": {
        "colab": {
          "base_uri": "https://localhost:8080/"
        },
        "id": "j7pOlDrHp6VC",
        "outputId": "d997bdc9-a366-4093-f6d0-742f91c34e20"
      },
      "execution_count": null,
      "outputs": [
        {
          "output_type": "stream",
          "name": "stdout",
          "text": [
            "Enter the filename to open: pwskills\n",
            "Error: The file 'pwskills' was not found.\n"
          ]
        }
      ]
    },
    {
      "cell_type": "code",
      "source": [
        "#9. How can you read a file line by line and store its content in a list in Python?\n",
        "\n",
        "lines = []\n",
        "with open('filename.txt', 'r') as file:\n",
        "    for line in file:\n",
        "        lines.append(line.strip())  # .strip() removes leading/trailing whitespace\n",
        "\n",
        "print(lines)"
      ],
      "metadata": {
        "id": "4NRurhIzqpp2"
      },
      "execution_count": null,
      "outputs": []
    },
    {
      "cell_type": "code",
      "source": [
        "#10. How can you append data to an existing file in Python?\n",
        "\n",
        "data = \"Appended line of text.\\n\"\n",
        "\n",
        "with open(\"example.txt\", \"a\") as file:\n",
        "    file.write(data)"
      ],
      "metadata": {
        "id": "A7cJxi3wqtHd"
      },
      "execution_count": null,
      "outputs": []
    },
    {
      "cell_type": "code",
      "source": [
        "#11. Write a Python program that uses a try-except block to handle an error when attempting to access a dictionary key that doesn't exist?\n",
        "\n",
        "# Sample dictionary\n",
        "person = {\n",
        "    \"name\": \"Priya\",\n",
        "    \"age\": 30,\n",
        "    \"city\": \"Bengaluru\"\n",
        "}\n",
        "\n",
        "# Try to access a key that may not exist\n",
        "try:\n",
        "    print(\"Name:\", person[\"name\"])\n",
        "    print(\"Country:\", person[\"country\"])  # This key doesn't exist\n",
        "except KeyError as e:\n",
        "    print(f\"Error: The key '{e}' does not exist in the dictionary.\")\n"
      ],
      "metadata": {
        "colab": {
          "base_uri": "https://localhost:8080/"
        },
        "id": "L2IMCSxgrIa-",
        "outputId": "272ad47c-a9e7-4490-c1f3-0e2b0c920ceb"
      },
      "execution_count": null,
      "outputs": [
        {
          "output_type": "stream",
          "name": "stdout",
          "text": [
            "Name: Priya\n",
            "Error: The key ''country'' does not exist in the dictionary.\n"
          ]
        }
      ]
    },
    {
      "cell_type": "code",
      "source": [
        "#12. Write a program that demonstrates using multiple except blocks to handle different types of exceptions.\n",
        "\n",
        "def divide_numbers():\n",
        "    try:\n",
        "        num1 = int(input(\"Enter the numerator: \"))\n",
        "        num2 = int(input(\"Enter the denominator: \"))\n",
        "        result = num1 / num2\n",
        "        print(\"Result:\", result)\n",
        "\n",
        "    except ValueError:\n",
        "        print(\"Error: Please enter valid integers.\")\n",
        "\n",
        "    except ZeroDivisionError:\n",
        "        print(\"Error: Cannot divide by zero.\")\n",
        "\n",
        "    except Exception as e:\n",
        "        print(f\"An unexpected error occurred: {e}\")\n",
        "\n",
        "# Call the function\n",
        "divide_numbers()"
      ],
      "metadata": {
        "colab": {
          "base_uri": "https://localhost:8080/"
        },
        "id": "Y4X483ZLrcFx",
        "outputId": "6ca6b603-de21-496b-e1e6-82e438bd426e"
      },
      "execution_count": null,
      "outputs": [
        {
          "output_type": "stream",
          "name": "stdout",
          "text": [
            "Enter the numerator: 22\n",
            "Enter the denominator: 2\n",
            "Result: 11.0\n"
          ]
        }
      ]
    },
    {
      "cell_type": "code",
      "source": [
        "#13. How would you check if a file exists before attempting to read it in Python?\n",
        "\n",
        "import os\n",
        "\n",
        "file_path = 'example.txt'\n",
        "\n",
        "if os.path.exists(file_path):\n",
        "    with open(file_path, 'r') as file:\n",
        "        contents = file.read()\n",
        "        print(contents)\n",
        "else:\n",
        "    print(\"File does not exist.\")"
      ],
      "metadata": {
        "colab": {
          "base_uri": "https://localhost:8080/"
        },
        "id": "dDjOvE9dr9YM",
        "outputId": "22ffa2ab-5d1a-49ac-ae9a-a2a882957531"
      },
      "execution_count": null,
      "outputs": [
        {
          "output_type": "stream",
          "name": "stdout",
          "text": [
            "Hello, this is a line of text.\n"
          ]
        }
      ]
    },
    {
      "cell_type": "code",
      "source": [
        "#14. Write a program that uses the logging module to log both informational and error messages.\n",
        "\n",
        "import logging\n",
        "\n",
        "# Configure the logging settings\n",
        "logging.basicConfig(\n",
        "    level=logging.DEBUG,\n",
        "    format='%(asctime)s - %(levelname)s - %(message)s',\n",
        "    filename='app.log',  # Logs will be saved in this file\n",
        "    filemode='w'         # 'w' to overwrite the file each run, use 'a' to append\n",
        ")\n",
        "\n",
        "# Example functions\n",
        "def divide(a, b):\n",
        "    try:\n",
        "        result = a / b\n",
        "        logging.info(f\"Successfully divided {a} by {b}, result: {result}\")\n",
        "        return result\n",
        "    except ZeroDivisionError as e:\n",
        "        logging.error(\"Attempted to divide by zero.\")\n",
        "        return None\n",
        "\n",
        "def main():\n",
        "    logging.info(\"Program started.\")\n",
        "\n",
        "    # Info log\n",
        "    divide(10, 2)\n",
        "\n",
        "    # Error log (division by zero)\n",
        "    divide(5, 0)\n",
        "\n",
        "    logging.info(\"Program ended.\")\n",
        "\n",
        "if __name__ == \"__main__\":\n",
        "    main()"
      ],
      "metadata": {
        "id": "RjgNBjtes9C7"
      },
      "execution_count": null,
      "outputs": []
    },
    {
      "cell_type": "code",
      "source": [
        "#15. Write a Python program that prints the content of a file and handles the case when the file is empty?\n",
        "\n",
        "def print_file_content(file_path):\n",
        "    try:\n",
        "        with open(file_path, 'r') as file:\n",
        "            content = file.read()\n",
        "            if not content:\n",
        "                print(\"The file is empty.\")\n",
        "            else:\n",
        "                print(\"File Content:\\n\")\n",
        "                print(content)\n",
        "    except FileNotFoundError:\n",
        "        print(f\"Error: The file '{file_path}' was not found.\")\n",
        "    except IOError as e:\n",
        "        print(f\"An I/O error occurred: {e}\")\n",
        "\n",
        "# Example usage\n",
        "file_path = input(\"Enter the file path: \")\n",
        "print_file_content(file_path)"
      ],
      "metadata": {
        "id": "_lF_HTqks_uz"
      },
      "execution_count": null,
      "outputs": []
    },
    {
      "cell_type": "code",
      "source": [
        "#16. Demonstrate how to use memory profiling to check the memory usage of a small program?\n",
        "\n",
        "from memory_profiler import profile\n",
        "\n",
        "@profile\n",
        "def create_list():\n",
        "    a = [i for i in range(1000000)]\n",
        "    return a\n",
        "\n",
        "if __name__ == \"__main__\":\n",
        "    create_list()\n",
        "\n",
        "python -m memory_profiler memory_test.py\n",
        "\n",
        "#output\n",
        "Line #    Mem usage    Increment  Occurrences   Line Contents\n",
        "=============================================================\n",
        "     4     15.1 MiB     15.1 MiB           1   @profile\n",
        "     5     22.3 MiB      7.2 MiB           1   def create_list():\n",
        "     6     60.5 MiB     38.2 MiB           1       a = [i for i in range(1000000)]\n",
        "     7     60.5 MiB      0.0 MiB           1       return a"
      ],
      "metadata": {
        "id": "S5Zz3FqutP3h"
      },
      "execution_count": null,
      "outputs": []
    },
    {
      "cell_type": "code",
      "source": [
        "#17. Write a Python program to create and write a list of numbers to a file, one number per line?\n",
        "\n",
        "# List of numbers\n",
        "numbers = [10, 20, 30, 40, 50]\n",
        "\n",
        "# File path\n",
        "filename = \"numbers.txt\"\n",
        "\n",
        "# Writing to file\n",
        "with open(filename, \"w\") as file:\n",
        "    for number in numbers:\n",
        "        file.write(f\"{number}\\n\")\n",
        "\n",
        "print(f\"Numbers written to {filename}\")\n"
      ],
      "metadata": {
        "colab": {
          "base_uri": "https://localhost:8080/"
        },
        "id": "moFUyvVcHr2S",
        "outputId": "1ce3375b-e205-4a47-9a63-940fdf5cc7d7"
      },
      "execution_count": null,
      "outputs": [
        {
          "output_type": "stream",
          "name": "stdout",
          "text": [
            "Numbers written to numbers.txt\n"
          ]
        }
      ]
    },
    {
      "cell_type": "code",
      "source": [
        "#18. How would you implement a basic logging setup that logs to a file with rotation after 1MB?\n",
        "\n",
        "import logging\n",
        "from logging.handlers import RotatingFileHandler\n",
        "\n",
        "# Create logger\n",
        "logger = logging.getLogger(\"my_logger\")\n",
        "logger.setLevel(logging.DEBUG)  # You can set this to INFO, WARNING, etc.\n",
        "\n",
        "# Create a rotating file handler\n",
        "handler = RotatingFileHandler(\n",
        "    \"my_log.log\",      # Log file name\n",
        "    maxBytes=1 * 1024 * 1024,  # 1 MB\n",
        "    backupCount=5     # Number of backup files to keep\n",
        ")\n",
        "\n",
        "# Create formatter and add to handler\n",
        "formatter = logging.Formatter('%(asctime)s - %(levelname)s - %(message)s')\n",
        "handler.setFormatter(formatter)\n",
        "\n",
        "# Add handler to logger\n",
        "logger.addHandler(handler)\n",
        "\n",
        "# Example usage\n",
        "logger.info(\"This is an info message.\")\n",
        "logger.error(\"This is an error message.\")"
      ],
      "metadata": {
        "id": "dQhOkmGxIWCr"
      },
      "execution_count": null,
      "outputs": []
    },
    {
      "cell_type": "code",
      "source": [
        "#19. Write a program that handles both IndexError and KeyError using a try-except block?\n",
        "\n",
        "def handle_errors():\n",
        "    my_list = [10, 20, 30]\n",
        "    my_dict = {\"a\": 1, \"b\": 2}\n",
        "\n",
        "    try:\n",
        "        # Trying to access an index that doesn't exist\n",
        "        print(\"List item:\", my_list[5])\n",
        "\n",
        "        # Trying to access a key that doesn't exist\n",
        "        print(\"Dict item:\", my_dict[\"z\"])\n",
        "\n",
        "    except IndexError:\n",
        "        print(\"Caught an IndexError: Tried to access an invalid index in the list.\")\n",
        "\n",
        "    except KeyError:\n",
        "        print(\"Caught a KeyError: Tried to access a non-existent key in the dictionary.\")\n",
        "\n",
        "# Call the function\n",
        "handle_errors()\n"
      ],
      "metadata": {
        "colab": {
          "base_uri": "https://localhost:8080/"
        },
        "id": "uLS915MiIbYz",
        "outputId": "55aafd02-be15-4dcd-eb62-4854d309fb76"
      },
      "execution_count": null,
      "outputs": [
        {
          "output_type": "stream",
          "name": "stdout",
          "text": [
            "Caught an IndexError: Tried to access an invalid index in the list.\n"
          ]
        }
      ]
    },
    {
      "cell_type": "code",
      "source": [
        "#20. How would you open a file and read its contents using a context manager in Python?\n",
        "\n",
        "# Open and read a file using a context manager\n",
        "with open('filename.txt', 'r') as file:\n",
        "    contents = file.read()\n",
        "    print(contents)\n"
      ],
      "metadata": {
        "id": "--W629GvIru3"
      },
      "execution_count": null,
      "outputs": []
    },
    {
      "cell_type": "code",
      "source": [
        "#21. Write a Python program that reads a file and prints the number of occurrences of a specific word?\n",
        "\n",
        "def count_word_in_file(filename, target_word):\n",
        "    try:\n",
        "        with open(filename, 'r', encoding='utf-8') as file:\n",
        "            contents = file.read().lower()  # Read and convert to lowercase for case-insensitive search\n",
        "            words = contents.split()\n",
        "            count = words.count(target_word.lower())\n",
        "            print(f\"The word '{target_word}' occurs {count} times in the file.\")\n",
        "    except FileNotFoundError:\n",
        "        print(\"The file was not found.\")\n",
        "    except Exception as e:\n",
        "        print(f\"An error occurred: {e}\")\n",
        "\n",
        "# Example usage\n",
        "file_name = input(\"Enter the filename (with extension): \")\n",
        "word_to_search = input(\"Enter the word to search for: \")\n",
        "count_word_in_file(file_name, word_to_search)\n"
      ],
      "metadata": {
        "id": "GukloVcqJFRv"
      },
      "execution_count": null,
      "outputs": []
    },
    {
      "cell_type": "code",
      "source": [
        "#22. How can you check if a file is empty before attempting to read its contents?\n",
        "\n",
        "import os\n",
        "\n",
        "file_path = \"example.txt\"\n",
        "\n",
        "if os.path.getsize(file_path) == 0:\n",
        "    print(\"The file is empty.\")\n",
        "else:\n",
        "    print(\"The file is not empty.\")"
      ],
      "metadata": {
        "id": "jc4PHdPZJuLa"
      },
      "execution_count": null,
      "outputs": []
    },
    {
      "cell_type": "code",
      "source": [
        "#23. Write a Python program that writes to a log file when an error occurs during file handling?\n",
        "\n",
        "import logging\n",
        "\n",
        "# Configure logging\n",
        "logging.basicConfig(filename='error_log.txt',\n",
        "                    level=logging.ERROR,\n",
        "                    format='%(asctime)s - %(levelname)s - %(message)s')\n",
        "\n",
        "def read_file(file_path):\n",
        "    try:\n",
        "        with open(file_path, 'r') as file:\n",
        "            content = file.read()\n",
        "            print(\"File content:\")\n",
        "            print(content)\n",
        "    except Exception as e:\n",
        "        logging.error(\"Error while reading file: %s\", e)\n",
        "        print(\"An error occurred. Check 'error_log.txt' for details.\")\n",
        "\n",
        "# Example usage\n",
        "file_path = 'sample.txt'  # You can change this to test different scenarios\n",
        "read_file(file_path)"
      ],
      "metadata": {
        "id": "DR968cN0Jw_N"
      },
      "execution_count": null,
      "outputs": []
    }
  ]
}